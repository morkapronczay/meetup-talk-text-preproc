{
 "cells": [
  {
   "cell_type": "code",
   "execution_count": 21,
   "metadata": {},
   "outputs": [],
   "source": [
    "from nltk.corpus import stopwords\n",
    "from nltk import word_tokenize\n",
    "from nltk.tokenize import RegexpTokenizer\n",
    "from nltk.stem import SnowballStemmer\n",
    "import os\n",
    "import copy\n",
    "import math\n",
    "from gensim import corpora\n",
    "import pandas as pd\n",
    "%matplotlib inline\n",
    "import matplotlib.pyplot as plt"
   ]
  },
  {
   "cell_type": "markdown",
   "metadata": {},
   "source": [
    "# FUNCTIONS AND GLOBALS"
   ]
  },
  {
   "cell_type": "code",
   "execution_count": 4,
   "metadata": {},
   "outputs": [],
   "source": [
    "with open('input/languages.txt', 'r') as file:\n",
    "    languages = [f.strip('\\n') for f in file.readlines()]"
   ]
  },
  {
   "cell_type": "code",
   "execution_count": 13,
   "metadata": {},
   "outputs": [],
   "source": [
    "def read_text(datatype, folder, filename):\n",
    "    with open(os.path.join(datatype, folder, filename), 'r') as file:\n",
    "        return file.read()\n",
    "    \n",
    "def get_wordcount_by_lang(text_dict, unique=False):\n",
    "    if unique:\n",
    "        dictionaries = {lan: corpora.Dictionary([text_dict[lan]]) for lan in text_dict.keys()}\n",
    "        return {k: len(v) for k, v in dictionaries.items()}\n",
    "    else:\n",
    "        return {k: len(v) for k, v in text_dict.items()}"
   ]
  },
  {
   "cell_type": "markdown",
   "metadata": {},
   "source": [
    "# READ CORPUS"
   ]
  },
  {
   "cell_type": "code",
   "execution_count": 6,
   "metadata": {},
   "outputs": [],
   "source": [
    "files = {lan: os.listdir(os.path.join('page_text', lan)) for lan in languages}"
   ]
  },
  {
   "cell_type": "code",
   "execution_count": 7,
   "metadata": {},
   "outputs": [],
   "source": [
    "# plain texts\n",
    "texts = {lan: {f[:-4]: read_text('page_text', lan, f).lower() \n",
    "               for f in files[lan]} \n",
    "         for lan in languages}"
   ]
  },
  {
   "cell_type": "markdown",
   "metadata": {},
   "source": [
    "# CREATE TOKENIZED TEXT"
   ]
  },
  {
   "cell_type": "code",
   "execution_count": 9,
   "metadata": {},
   "outputs": [],
   "source": [
    "# tokenized text - remove punctuation\n",
    "tokenizer = RegexpTokenizer(r'\\w+')\n",
    "texts_split = {lan: {key: tokenizer.tokenize(text) for key, text in texts[lan].items()} for lan in languages}"
   ]
  },
  {
   "cell_type": "markdown",
   "metadata": {},
   "source": [
    "# JOIN TEXT BY LANGUAGE"
   ]
  },
  {
   "cell_type": "code",
   "execution_count": 10,
   "metadata": {},
   "outputs": [],
   "source": [
    "text_bylang = {lan: sum([val for key, val in texts_split[lan].items()], []) for lan in languages}"
   ]
  },
  {
   "cell_type": "markdown",
   "metadata": {},
   "source": [
    "# WORDCOUNTS FOR RAW TEXT"
   ]
  },
  {
   "cell_type": "code",
   "execution_count": 38,
   "metadata": {},
   "outputs": [
    {
     "data": {
      "text/html": [
       "<div>\n",
       "<style scoped>\n",
       "    .dataframe tbody tr th:only-of-type {\n",
       "        vertical-align: middle;\n",
       "    }\n",
       "\n",
       "    .dataframe tbody tr th {\n",
       "        vertical-align: top;\n",
       "    }\n",
       "\n",
       "    .dataframe thead th {\n",
       "        text-align: right;\n",
       "    }\n",
       "</style>\n",
       "<table border=\"1\" class=\"dataframe\">\n",
       "  <thead>\n",
       "    <tr style=\"text-align: right;\">\n",
       "      <th></th>\n",
       "      <th>countRaw</th>\n",
       "      <th>countUnique</th>\n",
       "    </tr>\n",
       "  </thead>\n",
       "  <tbody>\n",
       "    <tr>\n",
       "      <th>en</th>\n",
       "      <td>3191139</td>\n",
       "      <td>91738</td>\n",
       "    </tr>\n",
       "    <tr>\n",
       "      <th>de</th>\n",
       "      <td>1673767</td>\n",
       "      <td>134302</td>\n",
       "    </tr>\n",
       "    <tr>\n",
       "      <th>hu</th>\n",
       "      <td>818669</td>\n",
       "      <td>111097</td>\n",
       "    </tr>\n",
       "    <tr>\n",
       "      <th>ro</th>\n",
       "      <td>547997</td>\n",
       "      <td>56173</td>\n",
       "    </tr>\n",
       "  </tbody>\n",
       "</table>\n",
       "</div>"
      ],
      "text/plain": [
       "    countRaw  countUnique\n",
       "en   3191139        91738\n",
       "de   1673767       134302\n",
       "hu    818669       111097\n",
       "ro    547997        56173"
      ]
     },
     "execution_count": 38,
     "metadata": {},
     "output_type": "execute_result"
    }
   ],
   "source": [
    "df_wordcounts_raw = pd.DataFrame(index = languages)\n",
    "df_wordcounts_raw['countRaw'] = df_wordcounts_raw.index.map(get_wordcount_by_lang(text_bylang))\n",
    "df_wordcounts_raw['countUnique'] = df_wordcounts_raw.index.map(get_wordcount_by_lang(text_bylang, True))\n",
    "df_wordcounts_raw"
   ]
  },
  {
   "cell_type": "markdown",
   "metadata": {},
   "source": [
    "# BARPLOT FOR RAW TEXT"
   ]
  },
  {
   "cell_type": "code",
   "execution_count": 53,
   "metadata": {},
   "outputs": [
    {
     "data": {
      "text/plain": [
       "Text(0.5, 0.98, 'Word counts and unique word counts by languages')"
      ]
     },
     "execution_count": 53,
     "metadata": {},
     "output_type": "execute_result"
    },
    {
     "data": {
      "image/png": "[encoded data removed]",
      "text/plain": [
       "<Figure size 720x576 with 2 Axes>"
      ]
     },
     "metadata": {
      "needs_background": "light"
     },
     "output_type": "display_data"
    }
   ],
   "source": [
    "ax = df_wordcounts_raw.plot.bar(rot=0, subplots=True, figsize=(10,8))\n",
    "fig = plt.gcf()\n",
    "fig.suptitle('Word counts and unique word counts by languages', fontsize=18)"
   ]
  },
  {
   "cell_type": "markdown",
   "metadata": {},
   "source": [
    "# STOPWORD REMOVAL"
   ]
  },
  {
   "cell_type": "code",
   "execution_count": 39,
   "metadata": {},
   "outputs": [],
   "source": [
    "# long format of languages for stopword identification\n",
    "languages_long = {'en': 'english', 'de': 'german', 'hu': 'hungarian', 'ro': 'romanian'}\n",
    "\n",
    "# create dict of stopwords by language\n",
    "stopwords_bylang = {lan: set(stopwords.words(languages_long[lan])) for lan in languages}\n",
    "\n",
    "# filter stopwords from text\n",
    "text_bylang_stop = {lan: [f for f in text_bylang[lan] if not f in stopwords_bylang[lan]] for lan in languages}"
   ]
  },
  {
   "cell_type": "markdown",
   "metadata": {},
   "source": [
    "# WORDCOUNTS FOR STOPWORD REMOVED TEXT"
   ]
  },
  {
   "cell_type": "code",
   "execution_count": 40,
   "metadata": {
    "scrolled": true
   },
   "outputs": [
    {
     "data": {
      "text/html": [
       "<div>\n",
       "<style scoped>\n",
       "    .dataframe tbody tr th:only-of-type {\n",
       "        vertical-align: middle;\n",
       "    }\n",
       "\n",
       "    .dataframe tbody tr th {\n",
       "        vertical-align: top;\n",
       "    }\n",
       "\n",
       "    .dataframe thead th {\n",
       "        text-align: right;\n",
       "    }\n",
       "</style>\n",
       "<table border=\"1\" class=\"dataframe\">\n",
       "  <thead>\n",
       "    <tr style=\"text-align: right;\">\n",
       "      <th></th>\n",
       "      <th>countRaw</th>\n",
       "      <th>countUnique</th>\n",
       "    </tr>\n",
       "  </thead>\n",
       "  <tbody>\n",
       "    <tr>\n",
       "      <th>en</th>\n",
       "      <td>1955467</td>\n",
       "      <td>91586</td>\n",
       "    </tr>\n",
       "    <tr>\n",
       "      <th>de</th>\n",
       "      <td>1088246</td>\n",
       "      <td>134076</td>\n",
       "    </tr>\n",
       "    <tr>\n",
       "      <th>hu</th>\n",
       "      <td>609245</td>\n",
       "      <td>110909</td>\n",
       "    </tr>\n",
       "    <tr>\n",
       "      <th>ro</th>\n",
       "      <td>365645</td>\n",
       "      <td>55894</td>\n",
       "    </tr>\n",
       "  </tbody>\n",
       "</table>\n",
       "</div>"
      ],
      "text/plain": [
       "    countRaw  countUnique\n",
       "en   1955467        91586\n",
       "de   1088246       134076\n",
       "hu    609245       110909\n",
       "ro    365645        55894"
      ]
     },
     "execution_count": 40,
     "metadata": {},
     "output_type": "execute_result"
    }
   ],
   "source": [
    "df_wordcounts_nostop = pd.DataFrame(index = languages)\n",
    "df_wordcounts_nostop['countRaw'] = df_wordcounts_nostop.index.map(get_wordcount_by_lang(text_bylang_stop))\n",
    "df_wordcounts_nostop['countUnique'] = df_wordcounts_nostop.index.map(get_wordcount_by_lang(text_bylang_stop, True))\n",
    "df_wordcounts_nostop"
   ]
  },
  {
   "cell_type": "markdown",
   "metadata": {},
   "source": [
    "# BARPLOT FOR STOPWORD REMOVED  TEXT"
   ]
  },
  {
   "cell_type": "code",
   "execution_count": 52,
   "metadata": {},
   "outputs": [
    {
     "data": {
      "text/plain": [
       "Text(0.5, 0.98, 'Word counts and unique word counts by languages after stopword removal')"
      ]
     },
     "execution_count": 52,
     "metadata": {},
     "output_type": "execute_result"
    },
    {
     "data": {
      "image/png": "[encoded data removed]",
      "text/plain": [
       "<Figure size 720x576 with 2 Axes>"
      ]
     },
     "metadata": {
      "needs_background": "light"
     },
     "output_type": "display_data"
    }
   ],
   "source": [
    "ax = df_wordcounts_nostop.plot.bar(rot=0, subplots=True, figsize=(10,8))\n",
    "fig = plt.gcf()\n",
    "fig.suptitle('Word counts and unique word counts by languages after stopword removal', fontsize=18)"
   ]
  },
  {
   "cell_type": "markdown",
   "metadata": {},
   "source": [
    "# STEMMING TEXT"
   ]
  },
  {
   "cell_type": "code",
   "execution_count": 54,
   "metadata": {},
   "outputs": [],
   "source": [
    "# define stemmer objects by language\n",
    "stemmers = {lan: SnowballStemmer(languages_long[lan]) for lan in languages}\n",
    "\n",
    "# stem text\n",
    "text_bylang_stemmed = {lan: [stemmers[lan].stem(word) for word in text_bylang[lan]] for lan in languages}\n",
    "\n",
    "# stem and remove stopwords\n",
    "text_bylang_stop_stemmed = {lan: [stemmers[lan].stem(word) for word in text_bylang_stop[lan]] for lan in languages}"
   ]
  },
  {
   "cell_type": "markdown",
   "metadata": {},
   "source": [
    "# WORDCOUNTS FOR STOPWORD REMOVED TEXT\n",
    "\n",
    "* now only unique counts make sense"
   ]
  },
  {
   "cell_type": "code",
   "execution_count": 55,
   "metadata": {},
   "outputs": [
    {
     "data": {
      "text/html": [
       "<div>\n",
       "<style scoped>\n",
       "    .dataframe tbody tr th:only-of-type {\n",
       "        vertical-align: middle;\n",
       "    }\n",
       "\n",
       "    .dataframe tbody tr th {\n",
       "        vertical-align: top;\n",
       "    }\n",
       "\n",
       "    .dataframe thead th {\n",
       "        text-align: right;\n",
       "    }\n",
       "</style>\n",
       "<table border=\"1\" class=\"dataframe\">\n",
       "  <thead>\n",
       "    <tr style=\"text-align: right;\">\n",
       "      <th></th>\n",
       "      <th>stemOnly</th>\n",
       "      <th>stemStop</th>\n",
       "    </tr>\n",
       "  </thead>\n",
       "  <tbody>\n",
       "    <tr>\n",
       "      <th>en</th>\n",
       "      <td>70851</td>\n",
       "      <td>70750</td>\n",
       "    </tr>\n",
       "    <tr>\n",
       "      <th>de</th>\n",
       "      <td>101670</td>\n",
       "      <td>101604</td>\n",
       "    </tr>\n",
       "    <tr>\n",
       "      <th>hu</th>\n",
       "      <td>67584</td>\n",
       "      <td>67549</td>\n",
       "    </tr>\n",
       "    <tr>\n",
       "      <th>ro</th>\n",
       "      <td>36962</td>\n",
       "      <td>36798</td>\n",
       "    </tr>\n",
       "  </tbody>\n",
       "</table>\n",
       "</div>"
      ],
      "text/plain": [
       "    stemOnly  stemStop\n",
       "en     70851     70750\n",
       "de    101670    101604\n",
       "hu     67584     67549\n",
       "ro     36962     36798"
      ]
     },
     "execution_count": 55,
     "metadata": {},
     "output_type": "execute_result"
    }
   ],
   "source": [
    "df_wordcounts_stem_stop = pd.DataFrame(index = languages)\n",
    "df_wordcounts_stem_stop['stemOnly'] = df_wordcounts_nostop.index.map(get_wordcount_by_lang(text_bylang_stemmed, True))\n",
    "df_wordcounts_stem_stop['stemStop'] = df_wordcounts_nostop.index.map(get_wordcount_by_lang(text_bylang_stop_stemmed, True))\n",
    "df_wordcounts_stem_stop"
   ]
  },
  {
   "cell_type": "markdown",
   "metadata": {},
   "source": [
    "# BARPLOT FOR STEMMED AND STOPWORD REMOVED  TEXT"
   ]
  },
  {
   "cell_type": "code",
   "execution_count": 61,
   "metadata": {},
   "outputs": [
    {
     "data": {
      "text/plain": [
       "Text(0.5, 0.98, 'Word counts and unique word counts by languages after stopword removal')"
      ]
     },
     "execution_count": 61,
     "metadata": {},
     "output_type": "execute_result"
    },
    {
     "data": {
      "image/png": "[encoded data removed]",
      "text/plain": [
       "<Figure size 720x576 with 2 Axes>"
      ]
     },
     "metadata": {
      "needs_background": "light"
     },
     "output_type": "display_data"
    }
   ],
   "source": [
    "ax = df_wordcounts_stem_stop.plot.bar(rot=0, subplots=True, figsize=(10,8))\n",
    "fig = plt.gcf()\n",
    "fig.suptitle('Word counts and unique word counts by languages after stopword removal', fontsize=18)"
   ]
  },
  {
   "cell_type": "markdown",
   "metadata": {},
   "source": [
    "# COMPARE TO RAW COUNTS"
   ]
  },
  {
   "cell_type": "code",
   "execution_count": 63,
   "metadata": {},
   "outputs": [],
   "source": [
    "# get divisor -> raw unique counts\n",
    "df_wordcounts_stem_stop['rawUnique'] = df_wordcounts_raw['countUnique']"
   ]
  },
  {
   "cell_type": "code",
   "execution_count": 71,
   "metadata": {},
   "outputs": [],
   "source": [
    "# divide to get ratios to raw unique counts\n",
    "for col in ['stemOnly', 'stemStop']:\n",
    "    df_wordcounts_stem_stop[f'{col}_ratio'] = df_wordcounts_stem_stop[col] / df_wordcounts_stem_stop['rawUnique']"
   ]
  },
  {
   "cell_type": "markdown",
   "metadata": {},
   "source": [
    "# BARPLOT OF RATIOS TO RAW TEXT"
   ]
  },
  {
   "cell_type": "code",
   "execution_count": 76,
   "metadata": {},
   "outputs": [
    {
     "data": {
      "text/plain": [
       "Text(0.5, 0.98, 'Ratio of unique words kept by languages after stemming only, and after stemming+stopword removal')"
      ]
     },
     "execution_count": 76,
     "metadata": {},
     "output_type": "execute_result"
    },
    {
     "data": {
      "image/png": "[encoded data removed]",
      "text/plain": [
       "<Figure size 720x576 with 2 Axes>"
      ]
     },
     "metadata": {
      "needs_background": "light"
     },
     "output_type": "display_data"
    }
   ],
   "source": [
    "ax = df_wordcounts_stem_stop[[f for f in df_wordcounts_stem_stop.columns if 'ratio' in f]].plot.bar(rot=0, subplots=True, figsize=(10,8))\n",
    "fig = plt.gcf()\n",
    "fig.suptitle('Ratio of unique words kept by languages after stemming only, and after stemming+stopword removal', fontsize=18)"
   ]
  },
  {
   "cell_type": "markdown",
   "metadata": {},
   "source": [
    "# AGGREGATED INFORMATION FROM THIS PART"
   ]
  },
  {
   "cell_type": "markdown",
   "metadata": {},
   "source": [
    "## RAW COUNTS"
   ]
  },
  {
   "cell_type": "code",
   "execution_count": 89,
   "metadata": {},
   "outputs": [],
   "source": [
    "counts_sum_df = pd.DataFrame(index=languages)\n",
    "counts_sum_df['Raw'] = df_wordcounts_raw[['countRaw']]\n",
    "counts_sum_df['NoStop'] = df_wordcounts_nostop['countRaw']\n",
    "counts_sum_df['Stemmed'] = counts_sum_df['NoStop']\n",
    "counts_sum_df['NoStopStemmed'] = counts_sum_df['Stemmed']"
   ]
  },
  {
   "cell_type": "code",
   "execution_count": 90,
   "metadata": {
    "scrolled": true
   },
   "outputs": [
    {
     "data": {
      "text/html": [
       "<div>\n",
       "<style scoped>\n",
       "    .dataframe tbody tr th:only-of-type {\n",
       "        vertical-align: middle;\n",
       "    }\n",
       "\n",
       "    .dataframe tbody tr th {\n",
       "        vertical-align: top;\n",
       "    }\n",
       "\n",
       "    .dataframe thead th {\n",
       "        text-align: right;\n",
       "    }\n",
       "</style>\n",
       "<table border=\"1\" class=\"dataframe\">\n",
       "  <thead>\n",
       "    <tr style=\"text-align: right;\">\n",
       "      <th></th>\n",
       "      <th>Raw</th>\n",
       "      <th>NoStop</th>\n",
       "      <th>Stemmed</th>\n",
       "      <th>NoStopStemmed</th>\n",
       "    </tr>\n",
       "  </thead>\n",
       "  <tbody>\n",
       "    <tr>\n",
       "      <th>en</th>\n",
       "      <td>3191139</td>\n",
       "      <td>1955467</td>\n",
       "      <td>1955467</td>\n",
       "      <td>1955467</td>\n",
       "    </tr>\n",
       "    <tr>\n",
       "      <th>de</th>\n",
       "      <td>1673767</td>\n",
       "      <td>1088246</td>\n",
       "      <td>1088246</td>\n",
       "      <td>1088246</td>\n",
       "    </tr>\n",
       "    <tr>\n",
       "      <th>hu</th>\n",
       "      <td>818669</td>\n",
       "      <td>609245</td>\n",
       "      <td>609245</td>\n",
       "      <td>609245</td>\n",
       "    </tr>\n",
       "    <tr>\n",
       "      <th>ro</th>\n",
       "      <td>547997</td>\n",
       "      <td>365645</td>\n",
       "      <td>365645</td>\n",
       "      <td>365645</td>\n",
       "    </tr>\n",
       "  </tbody>\n",
       "</table>\n",
       "</div>"
      ],
      "text/plain": [
       "        Raw   NoStop  Stemmed  NoStopStemmed\n",
       "en  3191139  1955467  1955467        1955467\n",
       "de  1673767  1088246  1088246        1088246\n",
       "hu   818669   609245   609245         609245\n",
       "ro   547997   365645   365645         365645"
      ]
     },
     "execution_count": 90,
     "metadata": {},
     "output_type": "execute_result"
    }
   ],
   "source": [
    "counts_sum_df"
   ]
  },
  {
   "cell_type": "markdown",
   "metadata": {},
   "source": [
    "## UNIQUE COUNTS"
   ]
  },
  {
   "cell_type": "code",
   "execution_count": 91,
   "metadata": {},
   "outputs": [],
   "source": [
    "uniques_sum_df = pd.DataFrame(index=languages)\n",
    "uniques_sum_df['Raw'] = df_wordcounts_raw['countUnique']\n",
    "uniques_sum_df['NoStop'] = df_wordcounts_nostop['countUnique']\n",
    "uniques_sum_df['Stemmed'] = df_wordcounts_stem_stop['stemOnly']\n",
    "uniques_sum_df['NoStopStemmed'] = df_wordcounts_stem_stop['stemStop']"
   ]
  },
  {
   "cell_type": "code",
   "execution_count": 92,
   "metadata": {},
   "outputs": [
    {
     "data": {
      "text/html": [
       "<div>\n",
       "<style scoped>\n",
       "    .dataframe tbody tr th:only-of-type {\n",
       "        vertical-align: middle;\n",
       "    }\n",
       "\n",
       "    .dataframe tbody tr th {\n",
       "        vertical-align: top;\n",
       "    }\n",
       "\n",
       "    .dataframe thead th {\n",
       "        text-align: right;\n",
       "    }\n",
       "</style>\n",
       "<table border=\"1\" class=\"dataframe\">\n",
       "  <thead>\n",
       "    <tr style=\"text-align: right;\">\n",
       "      <th></th>\n",
       "      <th>Raw</th>\n",
       "      <th>NoStop</th>\n",
       "      <th>Stemmed</th>\n",
       "      <th>NoStopStemmed</th>\n",
       "    </tr>\n",
       "  </thead>\n",
       "  <tbody>\n",
       "    <tr>\n",
       "      <th>en</th>\n",
       "      <td>91738</td>\n",
       "      <td>91586</td>\n",
       "      <td>70851</td>\n",
       "      <td>70750</td>\n",
       "    </tr>\n",
       "    <tr>\n",
       "      <th>de</th>\n",
       "      <td>134302</td>\n",
       "      <td>134076</td>\n",
       "      <td>101670</td>\n",
       "      <td>101604</td>\n",
       "    </tr>\n",
       "    <tr>\n",
       "      <th>hu</th>\n",
       "      <td>111097</td>\n",
       "      <td>110909</td>\n",
       "      <td>67584</td>\n",
       "      <td>67549</td>\n",
       "    </tr>\n",
       "    <tr>\n",
       "      <th>ro</th>\n",
       "      <td>56173</td>\n",
       "      <td>55894</td>\n",
       "      <td>36962</td>\n",
       "      <td>36798</td>\n",
       "    </tr>\n",
       "  </tbody>\n",
       "</table>\n",
       "</div>"
      ],
      "text/plain": [
       "       Raw  NoStop  Stemmed  NoStopStemmed\n",
       "en   91738   91586    70851          70750\n",
       "de  134302  134076   101670         101604\n",
       "hu  111097  110909    67584          67549\n",
       "ro   56173   55894    36962          36798"
      ]
     },
     "execution_count": 92,
     "metadata": {},
     "output_type": "execute_result"
    }
   ],
   "source": [
    "uniques_sum_df"
   ]
  },
  {
   "cell_type": "markdown",
   "metadata": {},
   "source": [
    "# SPARSE TERM REMOVAL\n",
    "\n",
    "## CREATE STEMMED, STOPWORD REMOVED CORPUS BY DOC"
   ]
  },
  {
   "cell_type": "code",
   "execution_count": 93,
   "metadata": {},
   "outputs": [],
   "source": [
    "texts_bylang_byhuman = {lan:\n",
    "                        {key:\n",
    "                         [stemmers[lan].stem(word) \n",
    "                          for word in val if not word in stopwords_bylang[lan]] \n",
    "                         for key, val in texts_split[lan].items()} \n",
    "                        for lan in languages}"
   ]
  },
  {
   "cell_type": "code",
   "execution_count": 94,
   "metadata": {},
   "outputs": [],
   "source": [
    "dictionary_bylang_byhuman = {lan: corpora.Dictionary(texts_bylang_byhuman[lan].values()) for lan in languages}"
   ]
  },
  {
   "cell_type": "markdown",
   "metadata": {},
   "source": [
    "## REMOVE SPARSE TERMS"
   ]
  },
  {
   "cell_type": "code",
   "execution_count": 95,
   "metadata": {},
   "outputs": [],
   "source": [
    "# create sparsity thresholds for percentages\n",
    "sparse_perc = [1, 5, 10, 20]\n",
    "sparse_thresh = [math.ceil(f * len(texts['en'].keys()) / 100) for f in sparse_perc]"
   ]
  },
  {
   "cell_type": "code",
   "execution_count": 96,
   "metadata": {},
   "outputs": [],
   "source": [
    "# remove sparse tokens\n",
    "filtered_dicts = {}\n",
    "for lan in languages:\n",
    "    filtered_dicts[lan] = {}\n",
    "    for i, t in enumerate(sparse_thresh):\n",
    "        filtered_dicts[lan][sparse_perc[i]] = copy.copy(dictionary_bylang_byhuman[lan])\n",
    "        filtered_dicts[lan][sparse_perc[i]].filter_extremes(no_below=t)"
   ]
  },
  {
   "cell_type": "code",
   "execution_count": 97,
   "metadata": {},
   "outputs": [],
   "source": [
    "# create word counts for filtered dictionaries\n",
    "word_counts_filtered = {lan: {k: len(v) for k,v in filtered_dicts[lan].items()} for lan in languages}"
   ]
  },
  {
   "cell_type": "markdown",
   "metadata": {},
   "source": [
    "## ABSOLUTE WORD COUNTS"
   ]
  },
  {
   "cell_type": "code",
   "execution_count": 110,
   "metadata": {},
   "outputs": [],
   "source": [
    "sparse_df = pd.DataFrame.from_dict(get_wordcount_by_lang(text_bylang_stop_stemmed, True), orient='index')\n",
    "sparse_df.columns = ['no removal']\n",
    "sparse_df_ = pd.DataFrame.from_dict(word_counts_filtered).T\n",
    "sparse_df = sparse_df.join(sparse_df_)\n",
    "sparse_df"
   ]
  },
  {
   "cell_type": "code",
   "execution_count": 111,
   "metadata": {},
   "outputs": [
    {
     "data": {
      "text/html": [
       "<div>\n",
       "<style scoped>\n",
       "    .dataframe tbody tr th:only-of-type {\n",
       "        vertical-align: middle;\n",
       "    }\n",
       "\n",
       "    .dataframe tbody tr th {\n",
       "        vertical-align: top;\n",
       "    }\n",
       "\n",
       "    .dataframe thead th {\n",
       "        text-align: right;\n",
       "    }\n",
       "</style>\n",
       "<table border=\"1\" class=\"dataframe\">\n",
       "  <thead>\n",
       "    <tr style=\"text-align: right;\">\n",
       "      <th></th>\n",
       "      <th>no removal</th>\n",
       "      <th>1</th>\n",
       "      <th>5</th>\n",
       "      <th>10</th>\n",
       "      <th>20</th>\n",
       "    </tr>\n",
       "  </thead>\n",
       "  <tbody>\n",
       "    <tr>\n",
       "      <th>en</th>\n",
       "      <td>70750</td>\n",
       "      <td>13959</td>\n",
       "      <td>4704</td>\n",
       "      <td>2703</td>\n",
       "      <td>1319</td>\n",
       "    </tr>\n",
       "    <tr>\n",
       "      <th>de</th>\n",
       "      <td>101604</td>\n",
       "      <td>15346</td>\n",
       "      <td>3985</td>\n",
       "      <td>1895</td>\n",
       "      <td>670</td>\n",
       "    </tr>\n",
       "    <tr>\n",
       "      <th>hu</th>\n",
       "      <td>67549</td>\n",
       "      <td>10800</td>\n",
       "      <td>2490</td>\n",
       "      <td>1063</td>\n",
       "      <td>371</td>\n",
       "    </tr>\n",
       "    <tr>\n",
       "      <th>ro</th>\n",
       "      <td>36798</td>\n",
       "      <td>6783</td>\n",
       "      <td>1593</td>\n",
       "      <td>646</td>\n",
       "      <td>166</td>\n",
       "    </tr>\n",
       "  </tbody>\n",
       "</table>\n",
       "</div>"
      ],
      "text/plain": [
       "    no removal      1     5    10    20\n",
       "en       70750  13959  4704  2703  1319\n",
       "de      101604  15346  3985  1895   670\n",
       "hu       67549  10800  2490  1063   371\n",
       "ro       36798   6783  1593   646   166"
      ]
     },
     "execution_count": 111,
     "metadata": {},
     "output_type": "execute_result"
    }
   ],
   "source": [
    "sparse_df"
   ]
  },
  {
   "cell_type": "code",
   "execution_count": 126,
   "metadata": {},
   "outputs": [
    {
     "data": {
      "text/plain": [
       "<matplotlib.axes._subplots.AxesSubplot at 0x7f91982cc8d0>"
      ]
     },
     "execution_count": 126,
     "metadata": {},
     "output_type": "execute_result"
    },
    {
     "data": {
      "image/png": "[encoded data removed]",
      "text/plain": [
       "<Figure size 720x432 with 1 Axes>"
      ]
     },
     "metadata": {
      "needs_background": "light"
     },
     "output_type": "display_data"
    }
   ],
   "source": [
    "# plot absolute counts in a grouped barchart\n",
    "sparse_df.drop('no removal', axis=1).plot.bar(figsize=(10,6))"
   ]
  },
  {
   "cell_type": "markdown",
   "metadata": {},
   "source": [
    "## RELATIVE WORD COUNTS"
   ]
  },
  {
   "cell_type": "code",
   "execution_count": 113,
   "metadata": {},
   "outputs": [],
   "source": [
    "sparse_df_perc = sparse_df.copy()\n",
    "for i in [1,5,10,20]:\n",
    "    sparse_df_perc[i] /= sparse_df_perc['no removal']\n",
    "sparse_df_perc['no removal'] = 1"
   ]
  },
  {
   "cell_type": "code",
   "execution_count": 114,
   "metadata": {},
   "outputs": [
    {
     "data": {
      "text/html": [
       "<div>\n",
       "<style scoped>\n",
       "    .dataframe tbody tr th:only-of-type {\n",
       "        vertical-align: middle;\n",
       "    }\n",
       "\n",
       "    .dataframe tbody tr th {\n",
       "        vertical-align: top;\n",
       "    }\n",
       "\n",
       "    .dataframe thead th {\n",
       "        text-align: right;\n",
       "    }\n",
       "</style>\n",
       "<table border=\"1\" class=\"dataframe\">\n",
       "  <thead>\n",
       "    <tr style=\"text-align: right;\">\n",
       "      <th></th>\n",
       "      <th>no removal</th>\n",
       "      <th>1</th>\n",
       "      <th>5</th>\n",
       "      <th>10</th>\n",
       "      <th>20</th>\n",
       "    </tr>\n",
       "  </thead>\n",
       "  <tbody>\n",
       "    <tr>\n",
       "      <th>en</th>\n",
       "      <td>1</td>\n",
       "      <td>0.197300</td>\n",
       "      <td>0.066488</td>\n",
       "      <td>0.038205</td>\n",
       "      <td>0.018643</td>\n",
       "    </tr>\n",
       "    <tr>\n",
       "      <th>de</th>\n",
       "      <td>1</td>\n",
       "      <td>0.151037</td>\n",
       "      <td>0.039221</td>\n",
       "      <td>0.018651</td>\n",
       "      <td>0.006594</td>\n",
       "    </tr>\n",
       "    <tr>\n",
       "      <th>hu</th>\n",
       "      <td>1</td>\n",
       "      <td>0.159884</td>\n",
       "      <td>0.036862</td>\n",
       "      <td>0.015737</td>\n",
       "      <td>0.005492</td>\n",
       "    </tr>\n",
       "    <tr>\n",
       "      <th>ro</th>\n",
       "      <td>1</td>\n",
       "      <td>0.184331</td>\n",
       "      <td>0.043290</td>\n",
       "      <td>0.017555</td>\n",
       "      <td>0.004511</td>\n",
       "    </tr>\n",
       "  </tbody>\n",
       "</table>\n",
       "</div>"
      ],
      "text/plain": [
       "    no removal         1         5        10        20\n",
       "en           1  0.197300  0.066488  0.038205  0.018643\n",
       "de           1  0.151037  0.039221  0.018651  0.006594\n",
       "hu           1  0.159884  0.036862  0.015737  0.005492\n",
       "ro           1  0.184331  0.043290  0.017555  0.004511"
      ]
     },
     "execution_count": 114,
     "metadata": {},
     "output_type": "execute_result"
    }
   ],
   "source": [
    "sparse_df_perc"
   ]
  },
  {
   "cell_type": "code",
   "execution_count": 127,
   "metadata": {},
   "outputs": [
    {
     "data": {
      "text/plain": [
       "<matplotlib.axes._subplots.AxesSubplot at 0x7f91983b2358>"
      ]
     },
     "execution_count": 127,
     "metadata": {},
     "output_type": "execute_result"
    },
    {
     "data": {
      "image/png": "[encoded data removed]",
      "text/plain": [
       "<Figure size 720x432 with 1 Axes>"
      ]
     },
     "metadata": {
      "needs_background": "light"
     },
     "output_type": "display_data"
    }
   ],
   "source": [
    "# plot linechart to show decline\n",
    "sparse_df_perc.T.plot(figsize=(10,6))"
   ]
  },
  {
   "cell_type": "code",
   "execution_count": 128,
   "metadata": {},
   "outputs": [
    {
     "data": {
      "text/plain": [
       "<matplotlib.axes._subplots.AxesSubplot at 0x7f9198399b38>"
      ]
     },
     "execution_count": 128,
     "metadata": {},
     "output_type": "execute_result"
    },
    {
     "data": {
      "image/png": "[encoded data removed]",
      "text/plain": [
       "<Figure size 720x432 with 1 Axes>"
      ]
     },
     "metadata": {
      "needs_background": "light"
     },
     "output_type": "display_data"
    }
   ],
   "source": [
    "# plot relative counts in a grouped barchart\n",
    "sparse_df_perc.drop('no removal', axis=1).plot.bar(figsize=(10,6))"
   ]
  },
  {
   "cell_type": "code",
   "execution_count": 129,
   "metadata": {},
   "outputs": [
    {
     "data": {
      "text/plain": [
       "<matplotlib.axes._subplots.AxesSubplot at 0x7f9198936630>"
      ]
     },
     "execution_count": 129,
     "metadata": {},
     "output_type": "execute_result"
    },
    {
     "data": {
      "image/png": "[encoded data removed]",
      "text/plain": [
       "<Figure size 720x432 with 1 Axes>"
      ]
     },
     "metadata": {
      "needs_background": "light"
     },
     "output_type": "display_data"
    }
   ],
   "source": [
    "# plot relative counts in a grouped barchart\n",
    "sparse_df_perc.drop('no removal', axis=1).T.plot.bar(figsize=(10,6))"
   ]
  }
 ],
 "metadata": {
  "kernelspec": {
   "display_name": "Python 3",
   "language": "python",
   "name": "python3"
  },
  "language_info": {
   "codemirror_mode": {
    "name": "ipython",
    "version": 3
   },
   "file_extension": ".py",
   "mimetype": "text/x-python",
   "name": "python",
   "nbconvert_exporter": "python",
   "pygments_lexer": "ipython3",
   "version": "3.6.7"
  },
  "toc": {
   "base_numbering": 1,
   "nav_menu": {},
   "number_sections": false,
   "sideBar": false,
   "skip_h1_title": false,
   "title_cell": "Table of Contents",
   "title_sidebar": "Contents",
   "toc_cell": false,
   "toc_position": {},
   "toc_section_display": false,
   "toc_window_display": false
  }
 },
 "nbformat": 4,
 "nbformat_minor": 2
}
